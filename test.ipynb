{
 "cells": [
  {
   "cell_type": "code",
   "execution_count": 20,
   "metadata": {},
   "outputs": [],
   "source": [
    "class NDTUID:\r\n",
    "    # method name in constructor\r\n",
    "    def __init__(self, NDTmethod, methodName, techniques, testSpecifications):\r\n",
    "        self.NDTmethod = NDTmethod  # Public Attribute\r\n",
    "        self.methodName = methodName                            #\r\n",
    "        self.techniques = techniques                           #\r\n",
    "        self.testSpecifications = testSpecifications     #\r\n",
    "\r\n",
    "        def get_NDTmethod(self):\r\n",
    "            return self.NDTmethod\r\n",
    "\r\n",
    "        def get_methodName(self):\r\n",
    "            return self.methodName\r\n",
    "        \r\n",
    "        def get_techniques(self):\r\n",
    "            return self.techniques\r\n",
    "        \r\n",
    "        def get_testSpecifications(self):\r\n",
    "            return self.testSpecifications"
   ]
  },
  {
   "cell_type": "code",
   "execution_count": 17,
   "metadata": {},
   "outputs": [],
   "source": [
    "PT = NDTUID(\r\n",
    "    # Method {Method:UID}\r\n",
    "    {\"PT\": 1},\r\n",
    "    # methodName for terminology consolidation\r\n",
    "    [\"Dye Penetrant Inspection\", \"Dye Penetrant Testing\", \"Dye Penetrant Evaluation\"],\r\n",
    "    # techniques\r\n",
    "    {\r\n",
    "        # Nested Dictionary\r\n",
    "        #          {Type: UID}\r\n",
    "        'Type': {'Type I: Flourescent': 1, 'Type III: Colour Contrast': 2, 'Type III: Dual Purpose': 3},\r\n",
    "        #          {Method: UID}\r\n",
    "        'Method': {\"MethodA: Water Washable\": 1, \"Method B: Post Emulsified Lipophilic\": 2, \"Method C: Solvent Removable\": 3, \"Method D: Post Emulsified Hydrophilic\": 4, \"Method E: Water and Solvent Removable\": 5},\r\n",
    "        #          {Form: UID}\r\n",
    "        'Form': {\"form a: Dry Powder\": 1, \"form b: Water - Soluble\": 2, \"form c: Water-Suspendable\": 3, \"form d: Non Aqueous for Type I\": 4, \"form e: Non Aqueous for Type II and III\": 5, \"form f: Special Application\": 6},\r\n",
    "        #          {Sensitivity: UID}\r\n",
    "        'Sensitivity': {\"Level 0.5\": 1, \"Level 1\": 2, \"Level 2\": 3, \"Level 3\": 4, \"Level 4\": 5},\r\n",
    "    },\r\n",
    "    # testSpecifications {Spec:UID}\r\n",
    "    {'ISO 3452 -1': 1, 'ASME IX': 2}\r\n",
    ")"
   ]
  },
  {
   "cell_type": "code",
   "execution_count": 22,
   "metadata": {},
   "outputs": [
    {
     "ename": "AttributeError",
     "evalue": "'NDTUID' object has no attribute 'get_NDTmethod'",
     "output_type": "error",
     "traceback": [
      "\u001b[1;31m---------------------------------------------------------------------------\u001b[0m",
      "\u001b[1;31mAttributeError\u001b[0m                            Traceback (most recent call last)",
      "\u001b[1;32m<ipython-input-22-c16acae07e0c>\u001b[0m in \u001b[0;36m<module>\u001b[1;34m\u001b[0m\n\u001b[1;32m----> 1\u001b[1;33m \u001b[0mPT\u001b[0m\u001b[1;33m.\u001b[0m\u001b[0mget_NDTmethod\u001b[0m\u001b[1;33m(\u001b[0m\u001b[1;33m)\u001b[0m\u001b[1;33m\u001b[0m\u001b[1;33m\u001b[0m\u001b[0m\n\u001b[0m",
      "\u001b[1;31mAttributeError\u001b[0m: 'NDTUID' object has no attribute 'get_NDTmethod'"
     ]
    }
   ],
   "source": [
    "PT.get_NDTmethod()"
   ]
  },
  {
   "cell_type": "code",
   "execution_count": null,
   "metadata": {},
   "outputs": [],
   "source": []
  }
 ],
 "metadata": {
  "interpreter": {
   "hash": "41c9b31559b23e389a7481b6ab49c7962db7ce2c73599963ed5c761a2fbabc8f"
  },
  "kernelspec": {
   "display_name": "Python 3.8.5 64-bit ('base': conda)",
   "name": "python3"
  },
  "language_info": {
   "codemirror_mode": {
    "name": "ipython",
    "version": 3
   },
   "file_extension": ".py",
   "mimetype": "text/x-python",
   "name": "python",
   "nbconvert_exporter": "python",
   "pygments_lexer": "ipython3",
   "version": "3.8.5"
  },
  "orig_nbformat": 4
 },
 "nbformat": 4,
 "nbformat_minor": 2
}